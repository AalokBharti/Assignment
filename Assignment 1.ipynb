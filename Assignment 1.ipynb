{
 "cells": [
  {
   "cell_type": "markdown",
   "id": "04238e7c",
   "metadata": {},
   "source": [
    "## Question 1\n",
    "\n",
    "###### Write a program which will find all such numbers which are divisible by 7 but are not a multiple of 5, between 2000 and 3200 (both included). The numbers obtained should be printed in a comma-separated sequence on a single line."
   ]
  },
  {
   "cell_type": "code",
   "execution_count": null,
   "id": "79461b3d",
   "metadata": {},
   "outputs": [],
   "source": [
    "s = [i for i in range(2000,3201) if i%7 ==0 and i%5 != 0]\n",
    "\n",
    "listToStr = ','.join(map(str, S))  \n",
    "print(listToStr)"
   ]
  },
  {
   "cell_type": "code",
   "execution_count": null,
   "id": "9dd3804d",
   "metadata": {},
   "outputs": [],
   "source": [
    "# s = []\n",
    "# for i in range(2000,3201):\n",
    "#     if i%7 ==0 and i%5 != 0:\n",
    "#         s.append(i)\n",
    "# print(s)"
   ]
  },
  {
   "cell_type": "markdown",
   "id": "7962fe3e",
   "metadata": {},
   "source": [
    "## Question 2\n",
    "\n",
    "###### Write a Python program to accept the user's first and last name and then getting them printed in the the reverse order with a space between first name and last name."
   ]
  },
  {
   "cell_type": "code",
   "execution_count": 7,
   "id": "824f581b",
   "metadata": {},
   "outputs": [
    {
     "name": "stdout",
     "output_type": "stream",
     "text": [
      "Enter your first name: Aalok \n",
      "Enter your second name:Bharti\n",
      "Your full name is:  Aalok Bharti\n",
      "Your Reverse order name:   kolaA itrahB\n"
     ]
    }
   ],
   "source": [
    "first = input(\"Enter your first name: \")\n",
    "second = input(\"Enter your second name:\")\n",
    "print(\"Your full name is: \", first + second)\n",
    "\n",
    "print(\"Your Reverse order name: \",first[::-1] +\" \"+ second[::-1])"
   ]
  },
  {
   "cell_type": "markdown",
   "id": "dde987f7",
   "metadata": {},
   "source": [
    "## Question 3\n",
    "\n",
    "###### Write a Python program to find the volume of a sphere with diameter 12 cm. Formula: V=4/3 * π * r 3"
   ]
  },
  {
   "cell_type": "code",
   "execution_count": 11,
   "id": "beeab946",
   "metadata": {},
   "outputs": [],
   "source": [
    "def volume_of_sphere(d):\n",
    "    v = (((4/3)*3.14)* ((d/2)**3))\n",
    "    return v"
   ]
  },
  {
   "cell_type": "code",
   "execution_count": 12,
   "id": "2c95ceb3",
   "metadata": {},
   "outputs": [
    {
     "data": {
      "text/plain": [
       "904.3199999999999"
      ]
     },
     "execution_count": 12,
     "metadata": {},
     "output_type": "execute_result"
    }
   ],
   "source": [
    "volume_of_sphere(12)"
   ]
  },
  {
   "cell_type": "code",
   "execution_count": null,
   "id": "daa6c013",
   "metadata": {},
   "outputs": [],
   "source": []
  }
 ],
 "metadata": {
  "kernelspec": {
   "display_name": "Python 3",
   "language": "python",
   "name": "python3"
  },
  "language_info": {
   "codemirror_mode": {
    "name": "ipython",
    "version": 3
   },
   "file_extension": ".py",
   "mimetype": "text/x-python",
   "name": "python",
   "nbconvert_exporter": "python",
   "pygments_lexer": "ipython3",
   "version": "3.9.5"
  }
 },
 "nbformat": 4,
 "nbformat_minor": 5
}
